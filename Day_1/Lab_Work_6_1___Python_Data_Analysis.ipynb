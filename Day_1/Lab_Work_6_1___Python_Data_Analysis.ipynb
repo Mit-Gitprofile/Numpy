{
  "cells": [
    {
      "cell_type": "markdown",
      "metadata": {
        "id": "nksqNEVUUkIG"
      },
      "source": [
        "#### **1. Introduction to NumPy**"
      ]
    },
    {
      "cell_type": "markdown",
      "metadata": {
        "id": "R2Hg3uxcUoV0"
      },
      "source": [
        "**Task 1**: Import the NumPy library and print its version."
      ]
    },
    {
      "cell_type": "code",
      "execution_count": 3,
      "metadata": {
        "colab": {
          "base_uri": "https://localhost:8080/",
          "height": 36
        },
        "id": "jBDP51A_VOqt",
        "outputId": "757322af-dd00-461c-f675-1731bead5eba"
      },
      "outputs": [
        {
          "data": {
            "text/plain": [
              "'2.2.3'"
            ]
          },
          "execution_count": 3,
          "metadata": {},
          "output_type": "execute_result"
        }
      ],
      "source": [
        "# Write your answer from this cell onwards\n",
        "\n",
        "import numpy as np\n",
        "np.__version__\n"
      ]
    },
    {
      "cell_type": "markdown",
      "metadata": {
        "id": "8GJdriQkUvAd"
      },
      "source": [
        "**Task 2**: Create a one-dimensional NumPy array of integers from 0 to 9 and print it."
      ]
    },
    {
      "cell_type": "code",
      "execution_count": 4,
      "metadata": {
        "colab": {
          "base_uri": "https://localhost:8080/"
        },
        "id": "yrjhHTwLVZD1",
        "outputId": "5127362a-1e0a-4ac4-e525-561a452a36ac"
      },
      "outputs": [
        {
          "data": {
            "text/plain": [
              "array([0, 1, 2, 3, 4, 5, 6, 7, 8, 9])"
            ]
          },
          "execution_count": 4,
          "metadata": {},
          "output_type": "execute_result"
        }
      ],
      "source": [
        "# Write your answer from this cell onwards\n",
        "\n",
        "np.arange(10)\n"
      ]
    },
    {
      "cell_type": "markdown",
      "metadata": {
        "id": "M5QqzADUUw9d"
      },
      "source": [
        "**Task 3**: Generate a two-dimensional NumPy array with random values and print its shape and data type."
      ]
    },
    {
      "cell_type": "code",
      "execution_count": 5,
      "metadata": {
        "colab": {
          "base_uri": "https://localhost:8080/"
        },
        "id": "panMWynYVZd9",
        "outputId": "0a740cc1-954a-4792-aa47-8e180b7e802e"
      },
      "outputs": [
        {
          "name": "stdout",
          "output_type": "stream",
          "text": [
            "[[0.97451642 0.48074779]\n",
            " [0.09004164 0.43992349]\n",
            " [0.75053971 0.7357985 ]\n",
            " [0.44309775 0.75235024]\n",
            " [0.4148618  0.44416487]\n",
            " [0.70148194 0.2480013 ]\n",
            " [0.94240021 0.22574701]\n",
            " [0.06497274 0.9825    ]] \n",
            "\n",
            "Array_Shape: (8, 2)\n",
            "Array_Type: float64\n"
          ]
        }
      ],
      "source": [
        "# Write your answer from this cell onwards\n",
        "\n",
        "Array=np.random.rand(8,2).astype(float)\n",
        "\n",
        "print(Array,\"\\n\")\n",
        "print(\"Array_Shape:\",Array.shape)\n",
        "print(\"Array_Type:\",Array.dtype)"
      ]
    },
    {
      "cell_type": "markdown",
      "metadata": {
        "id": "EwBurIWiUy3s"
      },
      "source": [
        "**Task 4**: Create a NumPy array with 50 evenly spaced values between 0 and 10."
      ]
    },
    {
      "cell_type": "code",
      "execution_count": 2,
      "metadata": {
        "id": "vh7EZr1NVZyW"
      },
      "outputs": [
        {
          "name": "stdout",
          "output_type": "stream",
          "text": [
            "[ 0  0  0  0  0  1  1  1  1  2  2  2  2  2  3  3  3  3  4  4  4  4  4  5\n",
            "  5  5  5  6  6  6  6  6  7  7  7  7  8  8  8  8  8  9  9  9  9 10 10 10\n",
            " 10 11]\n"
          ]
        }
      ],
      "source": [
        "# Write your answer from this cell onwards\n",
        "import numpy as np\n",
        "array=np.linspace(0,11,50,dtype=int)\n",
        "print(array)"
      ]
    },
    {
      "cell_type": "markdown",
      "metadata": {
        "id": "rHzVOnP3U0OU"
      },
      "source": [
        "**Task 5**: Write a program to demonstrate the difference between a Python list and a NumPy array by performing element-wise addition on both."
      ]
    },
    {
      "cell_type": "code",
      "execution_count": 17,
      "metadata": {
        "id": "3Aol7c-HVaM1"
      },
      "outputs": [
        {
          "name": "stdout",
          "output_type": "stream",
          "text": [
            "[1, 2, 3, 4, 5, 6, 7, 8, 9, 10, 1, 2, 3, 4, 5, 6, 7, 8, 9, 10]\n",
            "[10 12 14 16 18 20 22 24 26 28]\n"
          ]
        }
      ],
      "source": [
        "# Write your answer from this cell onwards\n",
        "\n",
        "arr1=[1,2,3,4,5,6,7,8,9,10]\n",
        "arr2=[1,2,3,4,5,6,7,8,9,10]\n",
        "\n",
        "arr3=arr1+arr2\n",
        "print(arr3)\n",
        "\n",
        "a1=np.arange(10)\n",
        "a2=np.arange(10,20)\n",
        "\n",
        "a3=a1+a2\n",
        "print(a3)\n",
        "\n"
      ]
    },
    {
      "cell_type": "markdown",
      "metadata": {
        "id": "Zc-I33nTVnfF"
      },
      "source": [
        "---"
      ]
    },
    {
      "cell_type": "markdown",
      "metadata": {
        "id": "BNBcEQGpU5A1"
      },
      "source": [
        "#### **2. Creation of NumPy Arrays**"
      ]
    },
    {
      "cell_type": "markdown",
      "metadata": {
        "id": "8gwQ1XLTU6d0"
      },
      "source": [
        "**Task 6**: Create a NumPy array of all zeros with a shape of (3, 4)."
      ]
    },
    {
      "cell_type": "code",
      "execution_count": 47,
      "metadata": {
        "id": "PX_xYoZ7VaqK"
      },
      "outputs": [
        {
          "name": "stdout",
          "output_type": "stream",
          "text": [
            "[[0 0 0 0]\n",
            " [0 0 0 0]\n",
            " [0 0 0 0]]\n",
            "(3, 4)\n",
            "int32\n"
          ]
        }
      ],
      "source": [
        "# Write your answer from this cell onwards\n",
        "\n",
        "import numpy as np\n",
        "arr=np.zeros((3,4),dtype=np.int32)\n",
        "print(arr)\n",
        "\n",
        "print(np.shape(arr))\n",
        "print(arr.dtype)\n"
      ]
    },
    {
      "cell_type": "markdown",
      "metadata": {
        "id": "j3c91l5wU8ic"
      },
      "source": [
        "**Task 7**: Create a NumPy array of all ones with a shape of (2, 5) and a data type of float."
      ]
    },
    {
      "cell_type": "code",
      "execution_count": 49,
      "metadata": {
        "id": "r74xiEJiVa_h"
      },
      "outputs": [
        {
          "name": "stdout",
          "output_type": "stream",
          "text": [
            "[[1. 1. 1. 1. 1.]\n",
            " [1. 1. 1. 1. 1.]]\n",
            "(2, 5)\n",
            "float64\n"
          ]
        }
      ],
      "source": [
        "# Write your answer from this cell onwards\n",
        "import numpy as np\n",
        "arr=np.ones((2,5),dtype=float)\n",
        "print(arr)\n",
        "\n",
        "print(np.shape(arr))\n",
        "print(arr.dtype)\n"
      ]
    },
    {
      "cell_type": "markdown",
      "metadata": {
        "id": "Vda3CtySU9g8"
      },
      "source": [
        "**Task 8**: Use `arange()` to create a NumPy array containing numbers from 10 to 50 with a step of 5."
      ]
    },
    {
      "cell_type": "code",
      "execution_count": 30,
      "metadata": {
        "id": "xJP0cmb3VbOG"
      },
      "outputs": [
        {
          "name": "stdout",
          "output_type": "stream",
          "text": [
            "[10 15 20 25 30 35 40 45]\n"
          ]
        }
      ],
      "source": [
        "# Write your answer from this cell onwards\n",
        "\n",
        "arr=np.arange(10,50,5)\n",
        "print(arr)\n"
      ]
    },
    {
      "cell_type": "markdown",
      "metadata": {
        "id": "U_S34YgxU-_O"
      },
      "source": [
        "**Task 9**: Generate a 3x3 identity matrix using NumPy."
      ]
    },
    {
      "cell_type": "code",
      "execution_count": 55,
      "metadata": {
        "id": "1o6mpHEpVbk9"
      },
      "outputs": [
        {
          "name": "stdout",
          "output_type": "stream",
          "text": [
            "[[[ 0  1  2]\n",
            "  [ 3  4  5]\n",
            "  [ 6  7  8]]\n",
            "\n",
            " [[ 9 10 11]\n",
            "  [12 13 14]\n",
            "  [15 16 17]]\n",
            "\n",
            " [[18 19 20]\n",
            "  [21 22 23]\n",
            "  [24 25 26]]]\n"
          ]
        },
        {
          "data": {
            "text/plain": [
              "3"
            ]
          },
          "execution_count": 55,
          "metadata": {},
          "output_type": "execute_result"
        }
      ],
      "source": [
        "# Write your answer from this cell onwards\n",
        "import numpy as np\n",
        "\n",
        "arr=np.arange(27).reshape(3,3,3)\n",
        "print(arr)\n",
        "arr.ndim"
      ]
    },
    {
      "cell_type": "markdown",
      "metadata": {
        "id": "ZXumR58bVAGd"
      },
      "source": [
        "**Task 10**: Create a 4x4 array filled with random integers between 1 and 20."
      ]
    },
    {
      "cell_type": "code",
      "execution_count": 54,
      "metadata": {
        "id": "h3sNqZkyVb5d"
      },
      "outputs": [
        {
          "name": "stdout",
          "output_type": "stream",
          "text": [
            "[[ 3  4  9  9]\n",
            " [ 8 19 14  3]\n",
            " [17 20 15 15]\n",
            " [14  9  4  6]]\n"
          ]
        },
        {
          "data": {
            "text/plain": [
              "2"
            ]
          },
          "execution_count": 54,
          "metadata": {},
          "output_type": "execute_result"
        }
      ],
      "source": [
        "# Write your answer from this cell onwards\n",
        "\n",
        "import numpy as np\n",
        "\n",
        "array =np.random.randint(1,21,size=(4,4))\n",
        "print(array)\n",
        "\n",
        "array.ndim\n",
        "\n"
      ]
    },
    {
      "cell_type": "markdown",
      "metadata": {
        "id": "cjdCYJ5tVrF8"
      },
      "source": [
        "---"
      ]
    },
    {
      "cell_type": "markdown",
      "metadata": {
        "id": "xqShZoxpVBkV"
      },
      "source": [
        "#### **3. Indexing and Slicing of NumPy Arrays**"
      ]
    },
    {
      "cell_type": "markdown",
      "metadata": {
        "id": "h9qMzkDAVDj1"
      },
      "source": [
        "**Task 11**: Create a 1D NumPy array with values ranging from 1 to 15. Slice the array to extract elements from index 3 to 8."
      ]
    },
    {
      "cell_type": "code",
      "execution_count": 13,
      "metadata": {
        "id": "YM5HyktfVcTO"
      },
      "outputs": [],
      "source": [
        "# Write your answer from this cell onwards\n"
      ]
    },
    {
      "cell_type": "markdown",
      "metadata": {
        "id": "Rq8a05TxVGC6"
      },
      "source": [
        "**Task 12**: Generate a 3x3 matrix with values ranging from 1 to 9. Retrieve the element at the second row and third column."
      ]
    },
    {
      "cell_type": "code",
      "execution_count": 14,
      "metadata": {
        "id": "oF-RO3FvVcsN"
      },
      "outputs": [],
      "source": [
        "# Write your answer from this cell onwards\n"
      ]
    },
    {
      "cell_type": "markdown",
      "metadata": {
        "id": "Dbt2qGohVHK4"
      },
      "source": [
        "**Task 13**: Slice a 4x4 array to extract the last two rows and the last two columns."
      ]
    },
    {
      "cell_type": "code",
      "execution_count": 15,
      "metadata": {
        "id": "ILAjBQtbVc9V"
      },
      "outputs": [],
      "source": [
        "# Write your answer from this cell onwards\n"
      ]
    },
    {
      "cell_type": "markdown",
      "metadata": {
        "id": "1qGmKMc_VIMf"
      },
      "source": [
        "**Task 14**: Create a 5x5 matrix of random integers between 10 and 50. Replace all elements in the first row with the value 100."
      ]
    },
    {
      "cell_type": "code",
      "execution_count": 16,
      "metadata": {
        "id": "tyAOaZIYVeP1"
      },
      "outputs": [],
      "source": [
        "# Write your answer from this cell onwards\n"
      ]
    },
    {
      "cell_type": "markdown",
      "metadata": {
        "id": "y-zKtnzqVJWy"
      },
      "source": [
        "**Task 15**: Create a 1D NumPy array of 10 elements. Use boolean indexing to filter out all values greater than 5."
      ]
    },
    {
      "cell_type": "code",
      "execution_count": 17,
      "metadata": {
        "id": "nBn5cs_jVemV"
      },
      "outputs": [],
      "source": [
        "# Write your answer from this cell onwards\n"
      ]
    }
  ],
  "metadata": {
    "colab": {
      "provenance": []
    },
    "kernelspec": {
      "display_name": "rnw",
      "language": "python",
      "name": "python3"
    },
    "language_info": {
      "codemirror_mode": {
        "name": "ipython",
        "version": 3
      },
      "file_extension": ".py",
      "mimetype": "text/x-python",
      "name": "python",
      "nbconvert_exporter": "python",
      "pygments_lexer": "ipython3",
      "version": "3.13.1"
    }
  },
  "nbformat": 4,
  "nbformat_minor": 0
}
