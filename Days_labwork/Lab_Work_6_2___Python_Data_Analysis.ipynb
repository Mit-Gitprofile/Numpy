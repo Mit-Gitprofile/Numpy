{
  "cells": [
    {
      "cell_type": "markdown",
      "metadata": {
        "id": "IJIl_g7TWQma"
      },
      "source": [
        "#### **Task 1: Perform Mathematical Operations on NumPy Arrays**"
      ]
    },
    {
      "cell_type": "markdown",
      "metadata": {
        "id": "X8cSdLKiWV4Z"
      },
      "source": [
        "1. Create two 1D arrays of size 5 with random integers between 1 and 10."
      ]
    },
    {
      "cell_type": "code",
      "execution_count": 7,
      "metadata": {
        "id": "VQQ-gxwbXcP4"
      },
      "outputs": [
        {
          "name": "stdout",
          "output_type": "stream",
          "text": [
            "arr1: [1 2 9 2 5]\n",
            "arr2: [8 9 9 1 2]\n"
          ]
        }
      ],
      "source": [
        "# Write your answer from this cell onwards\n",
        "import numpy as np\n",
        "arr1=np.array(np.random.randint(1,10,size=5))\n",
        "print(\"arr1:\",arr1)\n",
        "arr2=np.array(np.random.randint(1,10,size=5))\n",
        "print(\"arr2:\",arr2)\n"
      ]
    },
    {
      "cell_type": "markdown",
      "metadata": {
        "id": "U0nzNVsSWcxR"
      },
      "source": [
        "2. Perform the following mathematical operations on these arrays:\n",
        "   - Element-wise addition\n",
        "   - Element-wise subtraction\n",
        "   - Element-wise multiplication\n",
        "   - Element-wise division"
      ]
    },
    {
      "cell_type": "code",
      "execution_count": null,
      "metadata": {
        "id": "WSoA6ONiXeMx"
      },
      "outputs": [
        {
          "name": "stdout",
          "output_type": "stream",
          "text": [
            "[ 9 11 18  3  7]\n"
          ]
        }
      ],
      "source": [
        "# Write your answer from this cell onwards\n",
        "sum=arr1+arr2\n",
        "print(\"sum:\",sum)"
      ]
    },
    {
      "cell_type": "markdown",
      "metadata": {
        "id": "Rt-Trpm_WekY"
      },
      "source": [
        "3. Compute the dot product of the two arrays."
      ]
    },
    {
      "cell_type": "code",
      "execution_count": null,
      "metadata": {
        "id": "81wCs1oXXfNg"
      },
      "outputs": [],
      "source": [
        "# Write your answer from this cell onwards\n"
      ]
    },
    {
      "cell_type": "markdown",
      "metadata": {
        "id": "3MIwhnWyWhGw"
      },
      "source": [
        "#### **Task 2: Combine and Split Arrays**"
      ]
    },
    {
      "cell_type": "markdown",
      "metadata": {
        "id": "F6d6U15QWijg"
      },
      "source": [
        "1. Create two 2D arrays of shape (3, 3) with random integers between 1 and 20."
      ]
    },
    {
      "cell_type": "code",
      "execution_count": null,
      "metadata": {
        "id": "k6gc-WgtXgtA"
      },
      "outputs": [],
      "source": [
        "# Write your answer from this cell onwards\n"
      ]
    },
    {
      "cell_type": "markdown",
      "metadata": {
        "id": "1l58ZcFgWkyC"
      },
      "source": [
        "2. Combine these arrays:\n",
        "   - Vertically using `vstack`\n",
        "   - Horizontally using `hstack`"
      ]
    },
    {
      "cell_type": "code",
      "execution_count": null,
      "metadata": {
        "id": "d7RBuszJXhPA"
      },
      "outputs": [],
      "source": [
        "# Write your answer from this cell onwards\n"
      ]
    },
    {
      "cell_type": "markdown",
      "metadata": {
        "id": "Cn3S5sPEWmiI"
      },
      "source": [
        "3. Split the combined array back into the original two arrays using `vsplit` and `hsplit`."
      ]
    },
    {
      "cell_type": "code",
      "execution_count": null,
      "metadata": {
        "id": "-MTZjymYXh65"
      },
      "outputs": [],
      "source": [
        "# Write your answer from this cell onwards\n"
      ]
    },
    {
      "cell_type": "markdown",
      "metadata": {
        "id": "Y7XZAC1RWoYQ"
      },
      "source": [
        "#### **Task 3: Search, Sort, and Filter in Arrays**"
      ]
    },
    {
      "cell_type": "markdown",
      "metadata": {
        "id": "nIqEmbMVWpxw"
      },
      "source": [
        "1. Create a 1D array with 10 random integers between 1 and 50."
      ]
    },
    {
      "cell_type": "code",
      "execution_count": null,
      "metadata": {
        "id": "jnteUtusXiiJ"
      },
      "outputs": [],
      "source": [
        "# Write your answer from this cell onwards\n"
      ]
    },
    {
      "cell_type": "markdown",
      "metadata": {
        "id": "HNRCU2hTWrah"
      },
      "source": [
        "2. Find the indices of elements that are greater than 25."
      ]
    },
    {
      "cell_type": "code",
      "execution_count": null,
      "metadata": {
        "id": "Y6-pvqATXjJY"
      },
      "outputs": [],
      "source": [
        "# Write your answer from this cell onwards\n"
      ]
    },
    {
      "cell_type": "markdown",
      "metadata": {
        "id": "VuxfDWVEWs1b"
      },
      "source": [
        "3. Sort the array in ascending order."
      ]
    },
    {
      "cell_type": "code",
      "execution_count": null,
      "metadata": {
        "id": "a7PR3oTCXjpZ"
      },
      "outputs": [],
      "source": [
        "# Write your answer from this cell onwards\n"
      ]
    },
    {
      "cell_type": "markdown",
      "metadata": {
        "id": "yR72J8hZWuMQ"
      },
      "source": [
        "4. Filter the array to include only even numbers."
      ]
    },
    {
      "cell_type": "code",
      "execution_count": null,
      "metadata": {
        "id": "WDjNRH1yXkEx"
      },
      "outputs": [],
      "source": [
        "# Write your answer from this cell onwards\n"
      ]
    },
    {
      "cell_type": "markdown",
      "metadata": {
        "id": "1fHW7setWw3I"
      },
      "source": [
        "#### **Task 4: Aggregate Functions**"
      ]
    },
    {
      "cell_type": "markdown",
      "metadata": {
        "id": "l2-K6kboWzow"
      },
      "source": [
        "1. Create a 2D array of shape (4, 5) with random integers between 10 and 100."
      ]
    },
    {
      "cell_type": "code",
      "execution_count": null,
      "metadata": {
        "id": "STXmk0e9XlgZ"
      },
      "outputs": [],
      "source": [
        "# Write your answer from this cell onwards\n"
      ]
    },
    {
      "cell_type": "markdown",
      "metadata": {
        "id": "vxkzu__3W2HA"
      },
      "source": [
        "2. Perform the following aggregate operations:\n",
        "   - Compute the sum of all elements.\n",
        "   - Find the maximum and minimum values in the array.\n",
        "   - Compute the mean and standard deviation of the elements.\n",
        "   - Find the sum of elements along each row and each column."
      ]
    },
    {
      "cell_type": "code",
      "execution_count": null,
      "metadata": {
        "id": "hiJrt9WrXl95"
      },
      "outputs": [],
      "source": [
        "# Write your answer from this cell onwards\n"
      ]
    },
    {
      "cell_type": "markdown",
      "metadata": {
        "id": "fWkuU1fiW4Eo"
      },
      "source": [
        "#### **Task 5: Statistical Functions**"
      ]
    },
    {
      "cell_type": "markdown",
      "metadata": {
        "id": "qOeElBIhW6vv"
      },
      "source": [
        "1. Create a 2D array of shape (5, 5) with random integers between 1 and 50."
      ]
    },
    {
      "cell_type": "code",
      "execution_count": null,
      "metadata": {
        "id": "Bc9VDAgsXmcB"
      },
      "outputs": [],
      "source": [
        "# Write your answer from this cell onwards\n"
      ]
    },
    {
      "cell_type": "markdown",
      "metadata": {
        "id": "3q0MR8wQW7iA"
      },
      "source": [
        "2. Compute the following statistics:\n",
        "   - Median of all elements.\n",
        "   - Variance of the elements.\n",
        "   - Cumulative sum along each row.\n",
        "   - Cumulative product along each column."
      ]
    },
    {
      "cell_type": "code",
      "execution_count": null,
      "metadata": {
        "id": "4a9z-3BqXmzZ"
      },
      "outputs": [],
      "source": [
        "# Write your answer from this cell onwards\n"
      ]
    },
    {
      "cell_type": "markdown",
      "metadata": {
        "id": "N3MJk4jfW9CQ"
      },
      "source": [
        "#### **Task 6: Combine All Concepts**"
      ]
    },
    {
      "cell_type": "markdown",
      "metadata": {
        "id": "acNypJ8TW-vQ"
      },
      "source": [
        "1. Create a dataset using a 2D NumPy array with random integers between 1 and 100, where rows represent students and columns represent their scores in 5 subjects."
      ]
    },
    {
      "cell_type": "code",
      "execution_count": null,
      "metadata": {
        "id": "H3845csbXnKQ"
      },
      "outputs": [],
      "source": [
        "# Write your answer from this cell onwards\n"
      ]
    },
    {
      "cell_type": "markdown",
      "metadata": {
        "id": "U4Gx7_JRXA64"
      },
      "source": [
        "2. Perform the following:\n",
        "   - Compute the total score for each student.\n",
        "   - Find the student with the highest and lowest total score.\n",
        "   - Sort the array based on total scores.\n",
        "   - Filter students who scored more than 75 in at least three subjects."
      ]
    },
    {
      "cell_type": "code",
      "execution_count": null,
      "metadata": {
        "id": "Is9_bmzEXnkA"
      },
      "outputs": [],
      "source": [
        "# Write your answer from this cell onwards\n"
      ]
    }
  ],
  "metadata": {
    "colab": {
      "provenance": []
    },
    "kernelspec": {
      "display_name": "rnw",
      "language": "python",
      "name": "python3"
    },
    "language_info": {
      "codemirror_mode": {
        "name": "ipython",
        "version": 3
      },
      "file_extension": ".py",
      "mimetype": "text/x-python",
      "name": "python",
      "nbconvert_exporter": "python",
      "pygments_lexer": "ipython3",
      "version": "3.13.1"
    }
  },
  "nbformat": 4,
  "nbformat_minor": 0
}
