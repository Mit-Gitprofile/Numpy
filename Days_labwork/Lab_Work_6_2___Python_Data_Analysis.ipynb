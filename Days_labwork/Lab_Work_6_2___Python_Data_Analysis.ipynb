{
  "cells": [
    {
      "cell_type": "markdown",
      "metadata": {
        "id": "IJIl_g7TWQma"
      },
      "source": [
        "#### **Task 1: Perform Mathematical Operations on NumPy Arrays**"
      ]
    },
    {
      "cell_type": "code",
      "execution_count": null,
      "metadata": {},
      "outputs": [],
      "source": [
        "%pip install numpy"
      ]
    },
    {
      "cell_type": "markdown",
      "metadata": {
        "id": "X8cSdLKiWV4Z"
      },
      "source": [
        "1. Create two 1D arrays of size 5 with random integers between 1 and 10."
      ]
    },
    {
      "cell_type": "code",
      "execution_count": 7,
      "metadata": {
        "id": "VQQ-gxwbXcP4"
      },
      "outputs": [
        {
          "name": "stdout",
          "output_type": "stream",
          "text": [
            "arr1: [3 6 1 5 1]\n",
            "arr2: [6 7 7 8 6]\n"
          ]
        }
      ],
      "source": [
        "# Write your answer from this cell onwards\n",
        "import numpy as np\n",
        "arr1=np.array(np.random.randint(1,10,size=5))\n",
        "print(\"arr1:\",arr1)\n",
        "arr2=np.array(np.random.randint(1,10,size=5))\n",
        "print(\"arr2:\",arr2)\n"
      ]
    },
    {
      "cell_type": "markdown",
      "metadata": {
        "id": "U0nzNVsSWcxR"
      },
      "source": [
        "2. Perform the following mathematical operations on these arrays:\n",
        "   - Element-wise addition\n",
        "   - Element-wise subtraction\n",
        "   - Element-wise multiplication\n",
        "   - Element-wise division"
      ]
    },
    {
      "cell_type": "code",
      "execution_count": 8,
      "metadata": {
        "id": "WSoA6ONiXeMx"
      },
      "outputs": [
        {
          "name": "stdout",
          "output_type": "stream",
          "text": [
            "sum: [ 9 13  8 13  7]\n",
            "sub: [-3 -1 -6 -3 -5]\n",
            "mul: [18 42  7 40  6]\n",
            "dev: [0.5        0.85714286 0.14285714 0.625      0.16666667]\n"
          ]
        }
      ],
      "source": [
        "# Write your answer from this cell onwards\n",
        "sum=arr1+arr2\n",
        "print(\"sum:\",sum)\n",
        "sub=arr1-arr2\n",
        "print(\"sub:\",sub)\n",
        "mul=arr1*arr2\n",
        "print(\"mul:\",mul)\n",
        "dev=arr1/arr2\n",
        "print(\"dev:\",dev)"
      ]
    },
    {
      "cell_type": "markdown",
      "metadata": {
        "id": "Rt-Trpm_WekY"
      },
      "source": [
        "3. Compute the dot product of the two arrays."
      ]
    },
    {
      "cell_type": "code",
      "execution_count": 9,
      "metadata": {
        "id": "81wCs1oXXfNg"
      },
      "outputs": [
        {
          "name": "stdout",
          "output_type": "stream",
          "text": [
            "113\n"
          ]
        }
      ],
      "source": [
        "# Write your answer from this cell onwards\n",
        "product=np.dot(arr1,arr2)\n",
        "print(product)"
      ]
    },
    {
      "cell_type": "markdown",
      "metadata": {
        "id": "3MIwhnWyWhGw"
      },
      "source": [
        "#### **Task 2: Combine and Split Arrays**"
      ]
    },
    {
      "cell_type": "markdown",
      "metadata": {
        "id": "F6d6U15QWijg"
      },
      "source": [
        "1. Create two 2D arrays of shape (3, 3) with random integers between 1 and 20."
      ]
    },
    {
      "cell_type": "code",
      "execution_count": 20,
      "metadata": {
        "id": "k6gc-WgtXgtA"
      },
      "outputs": [
        {
          "name": "stdout",
          "output_type": "stream",
          "text": [
            "arr1:\n",
            " [[ 2 15 14]\n",
            " [16  2 12]\n",
            " [14  7  5]]\n",
            "arr2:\n",
            " [[19  2  1]\n",
            " [16 11  4]\n",
            " [18 15  2]]\n",
            "concatenate axis=0:-\n",
            " [[ 2 15 14]\n",
            " [16  2 12]\n",
            " [14  7  5]\n",
            " [19  2  1]\n",
            " [16 11  4]\n",
            " [18 15  2]]\n",
            "concatenate axis=1:-\n",
            " [[ 2 15 14 19  2  1]\n",
            " [16  2 12 16 11  4]\n",
            " [14  7  5 18 15  2]]\n"
          ]
        }
      ],
      "source": [
        "# Write your answer from this cell onwards\n",
        "import numpy as np\n",
        "arr1=np.array(np.random.randint(1,20,size=9)).reshape(3,3)\n",
        "print(\"arr1:\\n\",arr1)\n",
        "arr2=np.array(np.random.randint(1,20,size=9)).reshape(3,3)\n",
        "print(\"arr2:\\n\",arr2)\n",
        "\n",
        "concate=np.concatenate((arr1,arr2),axis=0)\n",
        "print(\"concatenate axis=0:-\\n\",concate)\n",
        "\n",
        "concate=np.concatenate((arr1,arr2),axis=1)\n",
        "print(\"concatenate axis=1:-\\n\",concate)"
      ]
    },
    {
      "cell_type": "markdown",
      "metadata": {
        "id": "1l58ZcFgWkyC"
      },
      "source": [
        "2. Combine these arrays:\n",
        "   - Vertically using `vstack`\n",
        "   - Horizontally using `hstack`"
      ]
    },
    {
      "cell_type": "code",
      "execution_count": 27,
      "metadata": {
        "id": "d7RBuszJXhPA"
      },
      "outputs": [
        {
          "name": "stdout",
          "output_type": "stream",
          "text": [
            "concatenate vstack:-\n",
            " [[ 2 15 14]\n",
            " [16  2 12]\n",
            " [14  7  5]\n",
            " [19  2  1]\n",
            " [16 11  4]\n",
            " [18 15  2]]\n",
            "concatenate hstack:-\n",
            " [[ 2 15 14 19  2  1]\n",
            " [16  2 12 16 11  4]\n",
            " [14  7  5 18 15  2]]\n"
          ]
        }
      ],
      "source": [
        "# Write your answer from this cell onwards\n",
        "verticaly=np.vstack((arr1,arr2))\n",
        "print(\"concatenate vstack:-\\n\",verticaly)\n",
        "\n",
        "horizontal=np.hstack((arr1,arr2))\n",
        "print(\"concatenate hstack:-\\n\",horizontal)"
      ]
    },
    {
      "cell_type": "markdown",
      "metadata": {
        "id": "Cn3S5sPEWmiI"
      },
      "source": [
        "3. Split the combined array back into the original two arrays using `vsplit` and `hsplit`."
      ]
    },
    {
      "cell_type": "code",
      "execution_count": 34,
      "metadata": {
        "id": "-MTZjymYXh65"
      },
      "outputs": [
        {
          "name": "stdout",
          "output_type": "stream",
          "text": [
            "concatenate vstack:-\n",
            "\n",
            "[[ 2 15 14]\n",
            " [16  2 12]\n",
            " [14  7  5]]\n",
            "[[19  2  1]\n",
            " [16 11  4]\n",
            " [18 15  2]]\n",
            "concatenate horizontal split:-\n",
            " [ 2 15 14 19  2  1 16  2 12 16 11  4 14  7  5 18 15  2]\n"
          ]
        }
      ],
      "source": [
        "# Write your answer from this cell onwards\n",
        "verticalysplit=np.vsplit(verticaly,2)\n",
        "print(\"concatenate vstack:-\\n\")\n",
        "for x in verticalysplit:\n",
        "    print(x)\n",
        "\n",
        "horizontalsplit=np.hstack(horizontal)\n",
        "print(\"concatenate horizontal split:-\\n\",horizontalsplit)"
      ]
    },
    {
      "cell_type": "markdown",
      "metadata": {
        "id": "Y7XZAC1RWoYQ"
      },
      "source": [
        "#### **Task 3: Search, Sort, and Filter in Arrays**"
      ]
    },
    {
      "cell_type": "markdown",
      "metadata": {
        "id": "nIqEmbMVWpxw"
      },
      "source": [
        "1. Create a 1D array with 10 random integers between 1 and 50."
      ]
    },
    {
      "cell_type": "code",
      "execution_count": 44,
      "metadata": {
        "id": "jnteUtusXiiJ"
      },
      "outputs": [
        {
          "name": "stdout",
          "output_type": "stream",
          "text": [
            "arr1: [18  2 16  3 18 43  1 22 45 28]\n"
          ]
        }
      ],
      "source": [
        "# Write your answer from this cell onwards\n",
        "\n",
        "import numpy as np\n",
        "arr1=np.array(np.random.randint(1,50,size=10))\n",
        "print(\"arr1:\",arr1)"
      ]
    },
    {
      "cell_type": "markdown",
      "metadata": {
        "id": "HNRCU2hTWrah"
      },
      "source": [
        "2. Find the indices of elements that are greater than 25."
      ]
    },
    {
      "cell_type": "code",
      "execution_count": 45,
      "metadata": {
        "id": "Y6-pvqATXjJY"
      },
      "outputs": [
        {
          "name": "stdout",
          "output_type": "stream",
          "text": [
            "(array([5, 8, 9]),)\n",
            "[43 45 28]\n"
          ]
        }
      ],
      "source": [
        "# Write your answer from this cell onwards\n",
        "print(np.where(arr1>25))\n",
        "print(arr1[arr1>25])"
      ]
    },
    {
      "cell_type": "markdown",
      "metadata": {
        "id": "VuxfDWVEWs1b"
      },
      "source": [
        "3. Sort the array in ascending order."
      ]
    },
    {
      "cell_type": "code",
      "execution_count": 48,
      "metadata": {
        "id": "a7PR3oTCXjpZ"
      },
      "outputs": [
        {
          "name": "stdout",
          "output_type": "stream",
          "text": [
            "[ 1  2  3 16 18 18 22 28 43 45]\n",
            "[45 43 28 22 18 18 16  3  2  1]\n"
          ]
        }
      ],
      "source": [
        "# Write your answer from this cell onwards\n",
        "print(np.sort(arr1))\n",
        "print(np.sort(arr1)[::-1])\n"
      ]
    },
    {
      "cell_type": "markdown",
      "metadata": {
        "id": "yR72J8hZWuMQ"
      },
      "source": [
        "4. Filter the array to include only even numbers."
      ]
    },
    {
      "cell_type": "code",
      "execution_count": 49,
      "metadata": {
        "id": "WDjNRH1yXkEx"
      },
      "outputs": [
        {
          "name": "stdout",
          "output_type": "stream",
          "text": [
            "[18  2 16 18 22 28]\n"
          ]
        }
      ],
      "source": [
        "# Write your answer from this cell onwards\n",
        "print(arr1[arr1%2==0])"
      ]
    },
    {
      "cell_type": "markdown",
      "metadata": {
        "id": "1fHW7setWw3I"
      },
      "source": [
        "#### **Task 4: Aggregate Functions**"
      ]
    },
    {
      "cell_type": "markdown",
      "metadata": {
        "id": "l2-K6kboWzow"
      },
      "source": [
        "1. Create a 2D array of shape (4, 5) with random integers between 10 and 100."
      ]
    },
    {
      "cell_type": "code",
      "execution_count": 50,
      "metadata": {
        "id": "STXmk0e9XlgZ"
      },
      "outputs": [
        {
          "name": "stdout",
          "output_type": "stream",
          "text": [
            "arr1:\n",
            " [[23 35 57 30 25]\n",
            " [41 78 28 66 83]\n",
            " [98 44 58 62 81]\n",
            " [42 63 50 56 76]]\n"
          ]
        }
      ],
      "source": [
        "# Write your answer from this cell onwards\n",
        "import numpy as np\n",
        "arr1=np.array(np.random.randint(10,100,size=20)).reshape(4,5)\n",
        "print(\"arr1:\\n\",arr1)"
      ]
    },
    {
      "cell_type": "markdown",
      "metadata": {
        "id": "vxkzu__3W2HA"
      },
      "source": [
        "2. Perform the following aggregate operations:\n",
        "   - Compute the sum of all elements.\n",
        "   - Find the maximum and minimum values in the array.\n",
        "   - Compute the mean and standard deviation of the elements.\n",
        "   - Find the sum of elements along each row and each column."
      ]
    },
    {
      "cell_type": "code",
      "execution_count": 62,
      "metadata": {
        "id": "hiJrt9WrXl95"
      },
      "outputs": [
        {
          "name": "stdout",
          "output_type": "stream",
          "text": [
            "sum: 1096\n",
            "max: 98\n",
            "min: 23\n",
            "mean: 54.8\n",
            "std: 20.87486526902629\n",
            "row sum: [170 296 343 287]\n",
            "col sum: [204 220 193 214 265]\n"
          ]
        }
      ],
      "source": [
        "# Write your answer from this cell onwards\n",
        "print(\"sum:\",np.sum(arr1))\n",
        "print(\"max:\",np.max(arr1))\n",
        "print(\"min:\",np.min(arr1))\n",
        "print(\"mean:\",np.mean(arr1))\n",
        "print(\"std:\",np.std(arr1))\n",
        "print(\"row sum:\",np.sum(arr1,axis=1))\n",
        "print(\"col sum:\",np.sum(arr1,axis=0))"
      ]
    },
    {
      "cell_type": "markdown",
      "metadata": {
        "id": "fWkuU1fiW4Eo"
      },
      "source": [
        "#### **Task 5: Statistical Functions**"
      ]
    },
    {
      "cell_type": "markdown",
      "metadata": {
        "id": "qOeElBIhW6vv"
      },
      "source": [
        "1. Create a 2D array of shape (5, 5) with random integers between 1 and 50."
      ]
    },
    {
      "cell_type": "code",
      "execution_count": 63,
      "metadata": {
        "id": "Bc9VDAgsXmcB"
      },
      "outputs": [
        {
          "name": "stdout",
          "output_type": "stream",
          "text": [
            "arr1:\n",
            " [[48 28  6 17 46]\n",
            " [43  5 25 11 24]\n",
            " [31  5 19 28 37]\n",
            " [ 9 13 12 17 17]\n",
            " [28 27 13 49 26]]\n"
          ]
        }
      ],
      "source": [
        "# Write your answer from this cell onwards\n",
        "import numpy as np\n",
        "arr1=np.array(np.random.randint(1,50,size=25)).reshape(5,5)\n",
        "print(\"arr1:\\n\",arr1)"
      ]
    },
    {
      "cell_type": "markdown",
      "metadata": {
        "id": "3q0MR8wQW7iA"
      },
      "source": [
        "2. Compute the following statistics:\n",
        "   - Median of all elements.\n",
        "   - Variance of the elements.\n",
        "   - Cumulative sum along each row.\n",
        "   - Cumulative product along each column."
      ]
    },
    {
      "cell_type": "code",
      "execution_count": 65,
      "metadata": {
        "id": "4a9z-3BqXmzZ"
      },
      "outputs": [
        {
          "name": "stdout",
          "output_type": "stream",
          "text": [
            "median: 24.0\n",
            "variance: 172.5504\n",
            "row sum: [145 108 120  68 143]\n",
            "col sum: [16123968   245700   444600  4361588 18054816]\n"
          ]
        }
      ],
      "source": [
        "# Write your answer from this cell onwards\n",
        "print(\"median:\",np.median(arr1))\n",
        "print(\"variance:\",np.var(arr1))\n",
        "print(\"row sum:\",np.sum(arr1,axis=1))\n",
        "print(\"col sum:\",np.prod(arr1,axis=0))"
      ]
    },
    {
      "cell_type": "markdown",
      "metadata": {
        "id": "N3MJk4jfW9CQ"
      },
      "source": [
        "#### **Task 6: Combine All Concepts**"
      ]
    },
    {
      "cell_type": "markdown",
      "metadata": {
        "id": "acNypJ8TW-vQ"
      },
      "source": [
        "1. Create a dataset using a 2D NumPy array with random integers between 1 and 100, where rows represent students and columns represent their scores in 5 subjects."
      ]
    },
    {
      "cell_type": "code",
      "execution_count": null,
      "metadata": {
        "id": "H3845csbXnKQ"
      },
      "outputs": [],
      "source": [
        "# Write your answer from this cell onwards\n"
      ]
    },
    {
      "cell_type": "markdown",
      "metadata": {
        "id": "U4Gx7_JRXA64"
      },
      "source": [
        "2. Perform the following:\n",
        "   - Compute the total score for each student.\n",
        "   - Find the student with the highest and lowest total score.\n",
        "   - Sort the array based on total scores.\n",
        "   - Filter students who scored more than 75 in at least three subjects."
      ]
    },
    {
      "cell_type": "code",
      "execution_count": null,
      "metadata": {
        "id": "Is9_bmzEXnkA"
      },
      "outputs": [],
      "source": [
        "# Write your answer from this cell onwards\n"
      ]
    }
  ],
  "metadata": {
    "colab": {
      "provenance": []
    },
    "kernelspec": {
      "display_name": "rnw",
      "language": "python",
      "name": "python3"
    },
    "language_info": {
      "codemirror_mode": {
        "name": "ipython",
        "version": 3
      },
      "file_extension": ".py",
      "mimetype": "text/x-python",
      "name": "python",
      "nbconvert_exporter": "python",
      "pygments_lexer": "ipython3",
      "version": "3.13.1"
    }
  },
  "nbformat": 4,
  "nbformat_minor": 0
}
